{
 "cells": [
  {
   "cell_type": "markdown",
   "metadata": {},
   "source": [
    "# importing library"
   ]
  },
  {
   "cell_type": "code",
   "execution_count": 1,
   "metadata": {},
   "outputs": [],
   "source": [
    "from bs4 import BeautifulSoup\n",
    "import requests\n",
    "import pandas as pd\n",
    "import pprint as pp"
   ]
  },
  {
   "cell_type": "markdown",
   "metadata": {},
   "source": [
    "# request and parsing"
   ]
  },
  {
   "cell_type": "code",
   "execution_count": 3,
   "metadata": {},
   "outputs": [],
   "source": [
    "url_s1 = 'https://namu.wiki/w/%ED%94%84%EB%A1%9C%EB%93%80%EC%8A%A4%20101/%EC%88%9C%EC%9C%84%ED%91%9C'\n",
    "url_s2 = 'https://namu.wiki/w/%ED%94%84%EB%A1%9C%EB%93%80%EC%8A%A4%20101%20%EC%8B%9C%EC%A6%8C2/%EC%88%9C%EC%9C%84%ED%91%9C'\n",
    "\n",
    "res_s1 = requests.get(url_s1)\n",
    "res_s2 = requests.get(url_s2)\n",
    "\n",
    "soup_s1 = BeautifulSoup(res_s1.text, 'html.parser')\n",
    "soup_s2 = BeautifulSoup(res_s2.text, 'html.parser')"
   ]
  },
  {
   "cell_type": "code",
   "execution_count": 4,
   "metadata": {},
   "outputs": [
    {
     "name": "stdout",
     "output_type": "stream",
     "text": [
      "107\n"
     ]
    }
   ],
   "source": [
    "s1_zone = soup_s1.select('div.wiki-table-wrap.table-center > table.wiki-table > tbody > tr')\n",
    "print(len(s1_zone))"
   ]
  },
  {
   "cell_type": "code",
   "execution_count": 5,
   "metadata": {},
   "outputs": [
    {
     "data": {
      "text/plain": [
       "101"
      ]
     },
     "execution_count": 5,
     "metadata": {},
     "output_type": "execute_result"
    }
   ],
   "source": [
    "s1_zone = s1_zone[4:105] # 101명 맞추기\n",
    "len(s1_zone) "
   ]
  },
  {
   "cell_type": "code",
   "execution_count": 6,
   "metadata": {},
   "outputs": [
    {
     "name": "stdout",
     "output_type": "stream",
     "text": [
      "105\n"
     ]
    }
   ],
   "source": [
    "s2_zone = soup_s2.select('div.wiki-table-wrap.table-center > table.wiki-table > tbody > tr')\n",
    "print(len(s2_zone))"
   ]
  },
  {
   "cell_type": "code",
   "execution_count": 7,
   "metadata": {},
   "outputs": [
    {
     "data": {
      "text/plain": [
       "101"
      ]
     },
     "execution_count": 7,
     "metadata": {},
     "output_type": "execute_result"
    }
   ],
   "source": [
    "s2_zone = s2_zone[4:]\n",
    "len(s2_zone)"
   ]
  },
  {
   "cell_type": "markdown",
   "metadata": {},
   "source": [
    "# make dataframe"
   ]
  },
  {
   "cell_type": "code",
   "execution_count": 8,
   "metadata": {},
   "outputs": [],
   "source": [
    "s1_list = []\n",
    "\n",
    "for i in s1_zone : \n",
    "    name = i.findAll({'div' : 'wiki-paragraph'})[1].text.strip()\n",
    "    ep1_rank = i.findAll({'div' : 'wiki-paragraph'})[-1].text\n",
    "    ep2_rank = i.findAll({'div' : 'wiki-paragraph'})[-2].text\n",
    "    \n",
    "    if i.findAll({'div' : 'wiki-paragraph'})[0].text == \"자진하차\" :\n",
    "        final_rank = '자진하차'\n",
    "        ep3_rank = '자진하차'\n",
    "        rank1st = '자진하차'\n",
    "        ep6_rank = ''\n",
    "        rank2nd = ''\n",
    "        rank3rd = ''\n",
    "        \n",
    "    \n",
    "    elif i.findAll({'div' : 'wiki-paragraph'})[-5].text == '' : \n",
    "        final_rank = i.findAll({'div' : 'wiki-paragraph'})[0].text\n",
    "        ep3_rank = i.findAll({'div' : 'wiki-paragraph'})[-3].text\n",
    "        rank1st = i.findAll({'div' : 'wiki-paragraph'})[-4].text\n",
    "        ep6_rank = ''\n",
    "        rank2nd = ''\n",
    "        rank3rd = ''\n",
    "        \n",
    "    elif i.findAll({'div' : 'wiki-paragraph'})[-7].text == '' :\n",
    "        final_rank = i.findAll({'div' : 'wiki-paragraph'})[0].text\n",
    "        ep3_rank = i.findAll({'div' : 'wiki-paragraph'})[-3].text\n",
    "        rank1st = i.findAll({'div' : 'wiki-paragraph'})[-4].text\n",
    "        ep6_rank = i.findAll({'div' : 'wiki-paragraph'})[-5].text\n",
    "        rank2nd = i.findAll({'div' : 'wiki-paragraph'})[-6].text\n",
    "        rank3rd = ''\n",
    "    \n",
    "    else : \n",
    "        final_rank = i.findAll({'div' : 'wiki-paragraph'})[0].text\n",
    "        ep3_rank = i.findAll({'div' : 'wiki-paragraph'})[-3].text\n",
    "        rank1st = i.findAll({'div' : 'wiki-paragraph'})[-4].text\n",
    "        ep6_rank = i.findAll({'div' : 'wiki-paragraph'})[-5].text\n",
    "        rank2nd = i.findAll({'div' : 'wiki-paragraph'})[-6].text\n",
    "        rank3rd = i.findAll({'div' : 'wiki-paragraph'})[-7].text\n",
    "             \n",
    "    \n",
    "        \n",
    "    s1_list.append([final_rank, name, ep1_rank, ep2_rank, ep3_rank, rank1st, ep6_rank, rank2nd, rank3rd])"
   ]
  },
  {
   "cell_type": "code",
   "execution_count": 9,
   "metadata": {},
   "outputs": [],
   "source": [
    "s2_list = []\n",
    "\n",
    "for i in s2_zone : \n",
    "    name = i.findAll({'div' : 'wiki-paragraph'})[1].text.strip()\n",
    "    \n",
    "    if i.findAll({'div' : 'wiki-paragraph'})[0].text == \" 자진하차\" :\n",
    "        final_rank = '자진하차'\n",
    "        ep1_rank = ''\n",
    "        ep2_rank = ''\n",
    "        ep3_rank = ''\n",
    "        rank1st = ''\n",
    "        ep6_rank = ''\n",
    "        rank2nd = ''\n",
    "        rank3rd = ''\n",
    "        \n",
    "    \n",
    "    elif i.findAll({'div' : 'wiki-paragraph'})[-5].text == '' : \n",
    "        final_rank = i.findAll({'div' : 'wiki-paragraph'})[0].text\n",
    "        ep1_rank = i.findAll({'div' : 'wiki-paragraph'})[-1].text\n",
    "        ep2_rank = i.findAll({'div' : 'wiki-paragraph'})[-2].text\n",
    "        ep3_rank = i.findAll({'div' : 'wiki-paragraph'})[-3].text\n",
    "        rank1st = i.findAll({'div' : 'wiki-paragraph'})[-4].text\n",
    "        ep6_rank = ''\n",
    "        rank2nd = ''\n",
    "        rank3rd = ''\n",
    "        \n",
    "    elif i.findAll({'div' : 'wiki-paragraph'})[-7].text == '' :\n",
    "        final_rank = i.findAll({'div' : 'wiki-paragraph'})[0].text\n",
    "        ep1_rank = i.findAll({'div' : 'wiki-paragraph'})[-1].text\n",
    "        ep2_rank = i.findAll({'div' : 'wiki-paragraph'})[-2].text\n",
    "        ep3_rank = i.findAll({'div' : 'wiki-paragraph'})[-3].text\n",
    "        rank1st = i.findAll({'div' : 'wiki-paragraph'})[-4].text\n",
    "        ep6_rank = i.findAll({'div' : 'wiki-paragraph'})[-5].text\n",
    "        rank2nd = i.findAll({'div' : 'wiki-paragraph'})[-6].text\n",
    "        rank3rd = ''\n",
    "    \n",
    "    else : \n",
    "        final_rank = i.findAll({'div' : 'wiki-paragraph'})[0].text\n",
    "        ep1_rank = i.findAll({'div' : 'wiki-paragraph'})[-1].text\n",
    "        ep2_rank = i.findAll({'div' : 'wiki-paragraph'})[-2].text\n",
    "        ep3_rank = i.findAll({'div' : 'wiki-paragraph'})[-3].text\n",
    "        rank1st = i.findAll({'div' : 'wiki-paragraph'})[-4].text\n",
    "        ep6_rank = i.findAll({'div' : 'wiki-paragraph'})[-5].text\n",
    "        rank2nd = i.findAll({'div' : 'wiki-paragraph'})[-6].text\n",
    "        rank3rd = i.findAll({'div' : 'wiki-paragraph'})[-7].text\n",
    "             \n",
    "    \n",
    "        \n",
    "    s2_list.append([final_rank, name, ep1_rank, ep2_rank, ep3_rank, rank1st, ep6_rank, rank2nd, rank3rd])"
   ]
  },
  {
   "cell_type": "code",
   "execution_count": 10,
   "metadata": {},
   "outputs": [],
   "source": [
    "s1_rank_all = pd.DataFrame(s1_list, \n",
    "                     columns = ['final_rank', 'name', 'ep1_rank', 'ep2_rank', 'ep3_rank', \n",
    "                                'rank1st', 'ep6_rank', 'rank2nd', 'rank3rd'])\n",
    "s2_rank_all = pd.DataFrame(s2_list,\n",
    "                      columns = ['final_rank', 'name', 'ep1_rank', 'ep2_rank', 'ep3_rank', \n",
    "                                'rank1st', 'ep6_rank', 'rank2nd', 'rank3rd'])\n",
    "s1_rank_all.to_csv('s1_rank.csv', encoding = 'cp949')\n",
    "s2_rank_all.to_csv('s2_rank.csv', encoding = 'cp949')"
   ]
  }
 ],
 "metadata": {
  "kernelspec": {
   "display_name": "Python 3",
   "language": "python",
   "name": "python3"
  },
  "language_info": {
   "codemirror_mode": {
    "name": "ipython",
    "version": 3
   },
   "file_extension": ".py",
   "mimetype": "text/x-python",
   "name": "python",
   "nbconvert_exporter": "python",
   "pygments_lexer": "ipython3",
   "version": "3.7.3"
  },
  "toc": {
   "base_numbering": 1,
   "nav_menu": {},
   "number_sections": true,
   "sideBar": true,
   "skip_h1_title": false,
   "title_cell": "Table of Contents",
   "title_sidebar": "Contents",
   "toc_cell": false,
   "toc_position": {},
   "toc_section_display": true,
   "toc_window_display": false
  },
  "varInspector": {
   "cols": {
    "lenName": 16,
    "lenType": 16,
    "lenVar": 40
   },
   "kernels_config": {
    "python": {
     "delete_cmd_postfix": "",
     "delete_cmd_prefix": "del ",
     "library": "var_list.py",
     "varRefreshCmd": "print(var_dic_list())"
    },
    "r": {
     "delete_cmd_postfix": ") ",
     "delete_cmd_prefix": "rm(",
     "library": "var_list.r",
     "varRefreshCmd": "cat(var_dic_list()) "
    }
   },
   "types_to_exclude": [
    "module",
    "function",
    "builtin_function_or_method",
    "instance",
    "_Feature"
   ],
   "window_display": false
  }
 },
 "nbformat": 4,
 "nbformat_minor": 2
}
