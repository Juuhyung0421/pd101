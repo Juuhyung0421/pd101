{
 "cells": [
  {
   "cell_type": "markdown",
   "metadata": {},
   "source": [
    "# importind library"
   ]
  },
  {
   "cell_type": "code",
   "execution_count": 1,
   "metadata": {},
   "outputs": [],
   "source": [
    "import numpy as np\n",
    "import pandas as pd\n",
    "import matplotlib.pyplot as plt\n",
    "%matplotlib inline\n",
    "from bs4 import BeautifulSoup\n",
    "import urllib \n",
    "from urllib import request\n",
    "import requests\n",
    "import re\n",
    "import json\n",
    "import pprint as pp\n",
    "import os\n",
    "import random"
   ]
  },
  {
   "cell_type": "markdown",
   "metadata": {},
   "source": [
    "# reading data"
   ]
  },
  {
   "cell_type": "code",
   "execution_count": 2,
   "metadata": {},
   "outputs": [],
   "source": [
    "total = pd.read_csv('trainee_total.csv', encoding = 'cp949', index_col = 0)\n",
    "s1 = total.loc[total['season']== 1, : ]\n",
    "s2 = total.loc[total['season']== 2, : ]"
   ]
  },
  {
   "cell_type": "markdown",
   "metadata": {},
   "source": [
    "# API"
   ]
  },
  {
   "cell_type": "markdown",
   "metadata": {},
   "source": [
    "- 시즌에 맞게 데이터와 기간을 설정하여 추출한다."
   ]
  },
  {
   "cell_type": "markdown",
   "metadata": {},
   "source": [
    "## 날짜 할당"
   ]
  },
  {
   "cell_type": "code",
   "execution_count": 3,
   "metadata": {},
   "outputs": [],
   "source": [
    "s1_dt_idx = pd.date_range(start = '20160129', end = '20160218') \n",
    "s1_dt = s1_dt_idx.strftime('%Y-%m-%d').tolist()"
   ]
  },
  {
   "cell_type": "markdown",
   "metadata": {},
   "source": [
    "## API 요청"
   ]
  },
  {
   "cell_type": "code",
   "execution_count": 4,
   "metadata": {},
   "outputs": [],
   "source": [
    "key = open('naver_api.json', 'r').read()\n",
    "naver_api = json.loads(key)"
   ]
  },
  {
   "cell_type": "code",
   "execution_count": 5,
   "metadata": {},
   "outputs": [],
   "source": [
    "def get_trend(body):\n",
    "    url = \"https://openapi.naver.com/v1/datalab/search\"\n",
    "    \n",
    "    request = urllib.request.Request(url)\n",
    "    request.add_header(\"X-Naver-Client-Id\", client_id)\n",
    "    request.add_header(\"X-Naver-Client-Secret\", client_secret)\n",
    "    request.add_header(\"Content-Type\",\"application/json\")\n",
    "    response = urllib.request.urlopen(request, data=body.encode(\"utf-8\"))\n",
    "\n",
    "    return json.loads(response.read().decode('utf-8'))"
   ]
  },
  {
   "cell_type": "code",
   "execution_count": 6,
   "metadata": {},
   "outputs": [],
   "source": [
    "# 할당 받은 api의 id, secret 넣기\n",
    "i = 0\n",
    "client_id = naver_api.get('groups').get('info')[i].get('client_id')\n",
    "client_secret = naver_api.get('groups').get('info')[i].get('client_secret')"
   ]
  },
  {
   "cell_type": "markdown",
   "metadata": {},
   "source": [
    "## API 돌리기"
   ]
  },
  {
   "cell_type": "code",
   "execution_count": 7,
   "metadata": {},
   "outputs": [],
   "source": [
    "tmp_dt = s1_dt"
   ]
  },
  {
   "cell_type": "code",
   "execution_count": 8,
   "metadata": {
    "scrolled": true
   },
   "outputs": [],
   "source": [
    "req_list = []\n",
    "result_dict = {'date' : [], 'name' : [], 'ratio' : [], 'div' : []}\n",
    "\n",
    "\n",
    "for dt in tmp_dt : \n",
    "    \n",
    "    s1 = s1.sample(frac=1).reset_index(drop=True) # 5명 랜덤 배정을 위해\n",
    "    \n",
    "    for idx in range(0, len(s1), 5):\n",
    "        \n",
    "        slc = s1.iloc[idx : idx + 5]\n",
    "        \n",
    "        req_list = {\n",
    "\n",
    "\n",
    "                'timeUnit' : 'date',\n",
    "                'startDate' : dt,\n",
    "                'endDate' : dt,\n",
    "                'keywordGroups' : [\n",
    "                    {\n",
    "                        'groupName' : slc.loc[i, 'name'],\n",
    "                        'keywords' : [slc.loc[i, 'name']]\n",
    "                    }\n",
    "\n",
    "                    for i in slc.index\n",
    "                ]\n",
    "            }\n",
    "        \n",
    "        \n",
    "        tmp_api = json.dumps(req_list, indent = 4, ensure_ascii = False)\n",
    "        tmp_trend = get_trend(tmp_api)\n",
    "        \n",
    "        \n",
    "        for i in range(len(tmp_trend.get('results'))) :\n",
    "            try : \n",
    "                result_dict['name'].append(tmp_trend.get('results')[i].get('title'))\n",
    "                result_dict['div'].append(idx/5)\n",
    "                result_dict['date'].append(tmp_trend.get('results')[i].get('data')[0].get('period'))\n",
    "                result_dict['ratio'].append(tmp_trend.get('results')[i].get('data')[0].get('ratio'))\n",
    "\n",
    "\n",
    "            except IndexError : \n",
    "                result_dict['date'].append('null')\n",
    "                result_dict['ratio'].append('null')\n",
    "            tmp_df = pd.DataFrame(result_dict)\n",
    "        "
   ]
  },
  {
   "cell_type": "code",
   "execution_count": 9,
   "metadata": {},
   "outputs": [],
   "source": [
    "tmp_df.to_csv('s1_rt01_0129-0218.csv', encoding = 'cp949')"
   ]
  },
  {
   "cell_type": "code",
   "execution_count": 128,
   "metadata": {},
   "outputs": [],
   "source": [
    "s1_rt01_01 = pd.read_csv('s1_rt01_0101-0128.csv', encoding = 'cp949', index_col = 0)\n",
    "s1_rt01_02 = pd.read_csv('s1_rt01_0129-0218.csv', encoding = 'cp949', index_col = 0)"
   ]
  },
  {
   "cell_type": "code",
   "execution_count": 129,
   "metadata": {},
   "outputs": [],
   "source": [
    "s1_rt01 = pd.concat([s1_rt01_01, s1_rt01_02], axis = 0, ignore_index=True) # 두번에 나누어 저장한 데이터를 합침"
   ]
  },
  {
   "cell_type": "markdown",
   "metadata": {},
   "source": [
    "## nan처리"
   ]
  },
  {
   "cell_type": "code",
   "execution_count": 130,
   "metadata": {},
   "outputs": [
    {
     "name": "stderr",
     "output_type": "stream",
     "text": [
      "/Users/juu/anaconda3/lib/python3.7/site-packages/ipykernel_launcher.py:3: SettingWithCopyWarning: \n",
      "A value is trying to be set on a copy of a slice from a DataFrame\n",
      "\n",
      "See the caveats in the documentation: http://pandas.pydata.org/pandas-docs/stable/indexing.html#indexing-view-versus-copy\n",
      "  This is separate from the ipykernel package so we can avoid doing imports until\n"
     ]
    }
   ],
   "source": [
    "for i in range(len(s1_rt01)) :     # ratio nan = 0\n",
    "    if np.isnan(s1_rt01['ratio'][i]) == True :\n",
    "        s1_rt01['ratio'][i] = 0"
   ]
  },
  {
   "cell_type": "code",
   "execution_count": 131,
   "metadata": {},
   "outputs": [],
   "source": [
    "for i in range(len(s1_rt01)) :         # foward fill date\n",
    "    s1_rt01['date'].ffill(axis = 0, inplace = True)"
   ]
  },
  {
   "cell_type": "markdown",
   "metadata": {},
   "source": [
    "## ratio 반올림"
   ]
  },
  {
   "cell_type": "code",
   "execution_count": 132,
   "metadata": {},
   "outputs": [],
   "source": [
    "s1_rt01['ratio'] = round(s1_rt01['ratio'])"
   ]
  },
  {
   "cell_type": "markdown",
   "metadata": {},
   "source": [
    "## 추출"
   ]
  },
  {
   "cell_type": "code",
   "execution_count": 133,
   "metadata": {},
   "outputs": [],
   "source": [
    "s1_rt01.to_csv('s1_rt01.csv', encoding = 'cp949') # 최종 rt01"
   ]
  }
 ],
 "metadata": {
  "kernelspec": {
   "display_name": "Python 3",
   "language": "python",
   "name": "python3"
  },
  "language_info": {
   "codemirror_mode": {
    "name": "ipython",
    "version": 3
   },
   "file_extension": ".py",
   "mimetype": "text/x-python",
   "name": "python",
   "nbconvert_exporter": "python",
   "pygments_lexer": "ipython3",
   "version": "3.7.3"
  },
  "toc": {
   "base_numbering": 1,
   "nav_menu": {},
   "number_sections": true,
   "sideBar": true,
   "skip_h1_title": false,
   "title_cell": "Table of Contents",
   "title_sidebar": "Contents",
   "toc_cell": false,
   "toc_position": {
    "height": "calc(100% - 180px)",
    "left": "10px",
    "top": "150px",
    "width": "349.078px"
   },
   "toc_section_display": true,
   "toc_window_display": false
  },
  "varInspector": {
   "cols": {
    "lenName": 16,
    "lenType": 16,
    "lenVar": 40
   },
   "kernels_config": {
    "python": {
     "delete_cmd_postfix": "",
     "delete_cmd_prefix": "del ",
     "library": "var_list.py",
     "varRefreshCmd": "print(var_dic_list())"
    },
    "r": {
     "delete_cmd_postfix": ") ",
     "delete_cmd_prefix": "rm(",
     "library": "var_list.r",
     "varRefreshCmd": "cat(var_dic_list()) "
    }
   },
   "types_to_exclude": [
    "module",
    "function",
    "builtin_function_or_method",
    "instance",
    "_Feature"
   ],
   "window_display": false
  }
 },
 "nbformat": 4,
 "nbformat_minor": 2
}
